{
 "cells": [
  {
   "cell_type": "code",
   "execution_count": 14,
   "metadata": {
    "ExecuteTime": {
     "end_time": "2021-11-01T02:10:09.438028Z",
     "start_time": "2021-11-01T02:10:09.405953Z"
    }
   },
   "outputs": [],
   "source": [
    "import ccxt\n",
    "import logging\n",
    "import requests\n",
    "import json \n",
    "\n",
    "# Api key : Dt81SVf8CiRnZI6HurMfPE2L128PpufdG9aSaONfbh4qjICmtdJJfk0mFjFEine1\n",
    "\n",
    "# Secret key : 3fSbN60xhXWzL0mrzw4Jy1NSzdGLUnPtx9XukNcgUV7XQrZE6WNZmIBCouQpkfL7\n",
    "\n",
    "auth_dict = {\"api_key\": \"Dt81SVf8CiRnZI6HurMfPE2L128PpufdG9aSaONfbh4qjICmtdJJfk0mFjFEine1\",\n",
    "             \"secret\": \"3fSbN60xhXWzL0mrzw4Jy1NSzdGLUnPtx9XukNcgUV7XQrZE6WNZmIBCouQpkfL7\"}\n",
    "\n",
    "\n",
    "binance = ccxt.binance(config={\n",
    "    'apiKey': auth_dict.get(\"api_key\"),\n",
    "    'secret': auth_dict.get(\"secret\"),\n",
    "    'enableRateLimit': True,\n",
    "    'options': {\n",
    "        'defaultType': 'future'\n",
    "    }\n",
    "})\n",
    "\n",
    "\n"
   ]
  },
  {
   "cell_type": "code",
   "execution_count": 15,
   "metadata": {
    "ExecuteTime": {
     "end_time": "2021-11-01T02:10:24.357251Z",
     "start_time": "2021-11-01T02:10:24.113409Z"
    }
   },
   "outputs": [
    {
     "name": "stdout",
     "output_type": "stream",
     "text": [
      "USDT:  {'free': 1668.42599856, 'used': 0.0, 'total': 1668.42599856}\n",
      "ETH:  {'free': 0.0, 'used': 0.0, 'total': 0.0}\n"
     ]
    }
   ],
   "source": [
    "balance = binance.fetch_balance()\n",
    "\n",
    "print(\"USDT: \", balance['USDT'])\n",
    "print(\"ETH: \", balance['ETH'])"
   ]
  },
  {
   "cell_type": "code",
   "execution_count": 2,
   "metadata": {
    "ExecuteTime": {
     "end_time": "2021-10-31T15:50:42.676189Z",
     "start_time": "2021-10-31T15:50:42.657529Z"
    }
   },
   "outputs": [],
   "source": [
    "import pymysql\n",
    "\n",
    "class MarketDB:\n",
    "    def __init__(self):\n",
    "        \"\"\"mariaDB 연결\"\"\"\n",
    "        self.conn = pymysql.connect(host=\"cryptocurrencydatabase.c5h79dp2k6f7.ap-northeast-2.rds.amazonaws.com\",\n",
    "                                    user=\"admin\",\n",
    "                                    password=\"khuminsung12!\",\n",
    "                                    db=\"trading\",\n",
    "                                    charset=\"utf8\")\n"
   ]
  },
  {
   "cell_type": "code",
   "execution_count": 21,
   "metadata": {
    "ExecuteTime": {
     "end_time": "2021-11-01T04:41:12.795779Z",
     "start_time": "2021-11-01T04:41:12.523878Z"
    }
   },
   "outputs": [],
   "source": [
    "db = MarketDB()\n",
    "\n",
    "target = 4000\n",
    "trade_diff_rate = round(((((avg_price / target)) - 1) * 100), 2)\n",
    "\n",
    "    \n",
    "with db.conn.cursor() as curs:\n",
    "    \n",
    "    sql = \"\"\"\n",
    "            INSERT INTO trading_bot_tradingrecord (avg_price, executed_qty, fee, cum_quote, side, status, type, symbol, datetime, trade_diff_rate, target_price) \n",
    "                 VALUES ({}, {}, {}, {}, '{}', '{}', '{}', '{}', '{}', {}, {})\n",
    "          \"\"\".format(avg_price, executed_qty, fee, cum_quote, side, status, _type, symbol, time, trade_diff_rate, target)\n",
    "    \n",
    "    curs.execute(sql)\n",
    "    #\n",
    "    db.conn.commit()\n"
   ]
  },
  {
   "cell_type": "code",
   "execution_count": 23,
   "metadata": {
    "ExecuteTime": {
     "end_time": "2021-11-01T05:30:49.827727Z",
     "start_time": "2021-11-01T05:30:49.746982Z"
    }
   },
   "outputs": [],
   "source": [
    "import pymysql\n",
    "\n",
    "class MarketDB:\n",
    "    def __init__(self):\n",
    "        \"\"\"mariaDB 연결\"\"\"\n",
    "        self.conn = pymysql.connect(host=\"cryptocurrencydatabase.c5h79dp2k6f7.ap-northeast-2.rds.amazonaws.com\",\n",
    "                                    user=\"admin\",\n",
    "                                    password=\"khuminsung12!\",\n",
    "                                    db=\"record\",\n",
    "                                    charset=\"utf8\")\n",
    "\n",
    "db = MarketDB()\n",
    "\n",
    "target = 4000\n",
    "trade_diff_rate = round(((((avg_price / target)) - 1) * 100), 2)\n",
    "\n",
    "with db.conn.cursor() as curs:\n",
    "    \n",
    "    sql = \"\"\"\n",
    "            INSERT INTO return_rate_record (datetime, algo_daily_rr, algo_hpr, daily_rr, hpr, mdd) \n",
    "                 VALUES ('{}', {}, {}, {}, {}, {})\n",
    "          \"\"\".format(datetime.now(), 1, 1, 1, 1, 1)\n",
    "    \n",
    "    curs.execute(sql)\n",
    "    #\n",
    "    db.conn.commit()\n"
   ]
  },
  {
   "cell_type": "code",
   "execution_count": 17,
   "metadata": {
    "ExecuteTime": {
     "end_time": "2021-11-01T04:40:47.232418Z",
     "start_time": "2021-11-01T04:40:47.146805Z"
    }
   },
   "outputs": [],
   "source": [
    "order = binance.create_market_sell_order('ETH/USDT', 0.01) # 시장가\n"
   ]
  },
  {
   "cell_type": "code",
   "execution_count": 18,
   "metadata": {
    "ExecuteTime": {
     "end_time": "2021-11-01T04:40:49.040542Z",
     "start_time": "2021-11-01T04:40:49.037970Z"
    }
   },
   "outputs": [],
   "source": [
    "order_id = order['info']['orderId']"
   ]
  },
  {
   "cell_type": "code",
   "execution_count": 19,
   "metadata": {
    "ExecuteTime": {
     "end_time": "2021-11-01T04:40:51.373048Z",
     "start_time": "2021-11-01T04:40:51.317192Z"
    }
   },
   "outputs": [],
   "source": [
    "from datetime import datetime\n",
    "\n",
    "record = binance.fetch_order(order_id, \"ETH/USDT\")['info']"
   ]
  },
  {
   "cell_type": "code",
   "execution_count": 20,
   "metadata": {
    "ExecuteTime": {
     "end_time": "2021-11-01T04:40:57.469464Z",
     "start_time": "2021-11-01T04:40:57.465605Z"
    }
   },
   "outputs": [],
   "source": [
    "avg_price = float(record['avgPrice'])\n",
    "executed_qty = float(record['executedQty'])\n",
    "side = record['side']\n",
    "status = record['status']\n",
    "_type = record['type']\n",
    "symbol = record['symbol']\n",
    "time = datetime.fromtimestamp(int(record['time']) / 1000)\n",
    "fee = float(record['cumQuote']) * 0.0004\n",
    "cum_quote = float(record['cumQuote'])"
   ]
  },
  {
   "cell_type": "code",
   "execution_count": 48,
   "metadata": {
    "ExecuteTime": {
     "end_time": "2021-10-31T14:37:36.068400Z",
     "start_time": "2021-10-31T14:37:36.065089Z"
    }
   },
   "outputs": [
    {
     "data": {
      "text/plain": [
       "'SELL'"
      ]
     },
     "execution_count": 48,
     "metadata": {},
     "output_type": "execute_result"
    }
   ],
   "source": []
  },
  {
   "cell_type": "code",
   "execution_count": 23,
   "metadata": {
    "ExecuteTime": {
     "end_time": "2021-10-31T14:28:42.914569Z",
     "start_time": "2021-10-31T14:28:42.902295Z"
    }
   },
   "outputs": [
    {
     "ename": "ProgrammingError",
     "evalue": "Cursor closed",
     "output_type": "error",
     "traceback": [
      "\u001b[0;31m---------------------------------------------------------------------------\u001b[0m",
      "\u001b[0;31mProgrammingError\u001b[0m                          Traceback (most recent call last)",
      "\u001b[0;32m<ipython-input-23-f1e331ba8617>\u001b[0m in \u001b[0;36m<module>\u001b[0;34m\u001b[0m\n\u001b[1;32m      1\u001b[0m sql = \"INSERT INTO trading_bot_tradingrecord VALUES ({}, {}, {}, {}, {}, {}, {}, {}, {})\".format(avg_price,\n\u001b[1;32m      2\u001b[0m                                                                     executed_qty, fee, cum_quote, side, status, _type, symbol, time)\n\u001b[0;32m----> 3\u001b[0;31m \u001b[0mcurs\u001b[0m\u001b[0;34m.\u001b[0m\u001b[0mexecute\u001b[0m\u001b[0;34m(\u001b[0m\u001b[0msql\u001b[0m\u001b[0;34m)\u001b[0m\u001b[0;34m\u001b[0m\u001b[0;34m\u001b[0m\u001b[0m\n\u001b[0m",
      "\u001b[0;32m/opt/anaconda3/lib/python3.8/site-packages/pymysql/cursors.py\u001b[0m in \u001b[0;36mexecute\u001b[0;34m(self, query, args)\u001b[0m\n\u001b[1;32m    141\u001b[0m         \u001b[0mIf\u001b[0m \u001b[0margs\u001b[0m \u001b[0;32mis\u001b[0m \u001b[0ma\u001b[0m \u001b[0mdict\u001b[0m\u001b[0;34m,\u001b[0m \u001b[0;34m%\u001b[0m\u001b[0;34m(\u001b[0m\u001b[0mname\u001b[0m\u001b[0;34m)\u001b[0m\u001b[0ms\u001b[0m \u001b[0mcan\u001b[0m \u001b[0mbe\u001b[0m \u001b[0mused\u001b[0m \u001b[0;32mas\u001b[0m \u001b[0ma\u001b[0m \u001b[0mplaceholder\u001b[0m \u001b[0;32min\u001b[0m \u001b[0mthe\u001b[0m \u001b[0mquery\u001b[0m\u001b[0;34m.\u001b[0m\u001b[0;34m\u001b[0m\u001b[0;34m\u001b[0m\u001b[0m\n\u001b[1;32m    142\u001b[0m         \"\"\"\n\u001b[0;32m--> 143\u001b[0;31m         \u001b[0;32mwhile\u001b[0m \u001b[0mself\u001b[0m\u001b[0;34m.\u001b[0m\u001b[0mnextset\u001b[0m\u001b[0;34m(\u001b[0m\u001b[0;34m)\u001b[0m\u001b[0;34m:\u001b[0m\u001b[0;34m\u001b[0m\u001b[0;34m\u001b[0m\u001b[0m\n\u001b[0m\u001b[1;32m    144\u001b[0m             \u001b[0;32mpass\u001b[0m\u001b[0;34m\u001b[0m\u001b[0;34m\u001b[0m\u001b[0m\n\u001b[1;32m    145\u001b[0m \u001b[0;34m\u001b[0m\u001b[0m\n",
      "\u001b[0;32m/opt/anaconda3/lib/python3.8/site-packages/pymysql/cursors.py\u001b[0m in \u001b[0;36mnextset\u001b[0;34m(self)\u001b[0m\n\u001b[1;32m     94\u001b[0m \u001b[0;34m\u001b[0m\u001b[0m\n\u001b[1;32m     95\u001b[0m     \u001b[0;32mdef\u001b[0m \u001b[0mnextset\u001b[0m\u001b[0;34m(\u001b[0m\u001b[0mself\u001b[0m\u001b[0;34m)\u001b[0m\u001b[0;34m:\u001b[0m\u001b[0;34m\u001b[0m\u001b[0;34m\u001b[0m\u001b[0m\n\u001b[0;32m---> 96\u001b[0;31m         \u001b[0;32mreturn\u001b[0m \u001b[0mself\u001b[0m\u001b[0;34m.\u001b[0m\u001b[0m_nextset\u001b[0m\u001b[0;34m(\u001b[0m\u001b[0;32mFalse\u001b[0m\u001b[0;34m)\u001b[0m\u001b[0;34m\u001b[0m\u001b[0;34m\u001b[0m\u001b[0m\n\u001b[0m\u001b[1;32m     97\u001b[0m \u001b[0;34m\u001b[0m\u001b[0m\n\u001b[1;32m     98\u001b[0m     \u001b[0;32mdef\u001b[0m \u001b[0m_ensure_bytes\u001b[0m\u001b[0;34m(\u001b[0m\u001b[0mself\u001b[0m\u001b[0;34m,\u001b[0m \u001b[0mx\u001b[0m\u001b[0;34m,\u001b[0m \u001b[0mencoding\u001b[0m\u001b[0;34m=\u001b[0m\u001b[0;32mNone\u001b[0m\u001b[0;34m)\u001b[0m\u001b[0;34m:\u001b[0m\u001b[0;34m\u001b[0m\u001b[0;34m\u001b[0m\u001b[0m\n",
      "\u001b[0;32m/opt/anaconda3/lib/python3.8/site-packages/pymysql/cursors.py\u001b[0m in \u001b[0;36m_nextset\u001b[0;34m(self, unbuffered)\u001b[0m\n\u001b[1;32m     81\u001b[0m     \u001b[0;32mdef\u001b[0m \u001b[0m_nextset\u001b[0m\u001b[0;34m(\u001b[0m\u001b[0mself\u001b[0m\u001b[0;34m,\u001b[0m \u001b[0munbuffered\u001b[0m\u001b[0;34m=\u001b[0m\u001b[0;32mFalse\u001b[0m\u001b[0;34m)\u001b[0m\u001b[0;34m:\u001b[0m\u001b[0;34m\u001b[0m\u001b[0;34m\u001b[0m\u001b[0m\n\u001b[1;32m     82\u001b[0m         \u001b[0;34m\"\"\"Get the next query set\"\"\"\u001b[0m\u001b[0;34m\u001b[0m\u001b[0;34m\u001b[0m\u001b[0m\n\u001b[0;32m---> 83\u001b[0;31m         \u001b[0mconn\u001b[0m \u001b[0;34m=\u001b[0m \u001b[0mself\u001b[0m\u001b[0;34m.\u001b[0m\u001b[0m_get_db\u001b[0m\u001b[0;34m(\u001b[0m\u001b[0;34m)\u001b[0m\u001b[0;34m\u001b[0m\u001b[0;34m\u001b[0m\u001b[0m\n\u001b[0m\u001b[1;32m     84\u001b[0m         \u001b[0mcurrent_result\u001b[0m \u001b[0;34m=\u001b[0m \u001b[0mself\u001b[0m\u001b[0;34m.\u001b[0m\u001b[0m_result\u001b[0m\u001b[0;34m\u001b[0m\u001b[0;34m\u001b[0m\u001b[0m\n\u001b[1;32m     85\u001b[0m         \u001b[0;32mif\u001b[0m \u001b[0mcurrent_result\u001b[0m \u001b[0;32mis\u001b[0m \u001b[0;32mNone\u001b[0m \u001b[0;32mor\u001b[0m \u001b[0mcurrent_result\u001b[0m \u001b[0;32mis\u001b[0m \u001b[0;32mnot\u001b[0m \u001b[0mconn\u001b[0m\u001b[0;34m.\u001b[0m\u001b[0m_result\u001b[0m\u001b[0;34m:\u001b[0m\u001b[0;34m\u001b[0m\u001b[0;34m\u001b[0m\u001b[0m\n",
      "\u001b[0;32m/opt/anaconda3/lib/python3.8/site-packages/pymysql/cursors.py\u001b[0m in \u001b[0;36m_get_db\u001b[0;34m(self)\u001b[0m\n\u001b[1;32m     63\u001b[0m     \u001b[0;32mdef\u001b[0m \u001b[0m_get_db\u001b[0m\u001b[0;34m(\u001b[0m\u001b[0mself\u001b[0m\u001b[0;34m)\u001b[0m\u001b[0;34m:\u001b[0m\u001b[0;34m\u001b[0m\u001b[0;34m\u001b[0m\u001b[0m\n\u001b[1;32m     64\u001b[0m         \u001b[0;32mif\u001b[0m \u001b[0;32mnot\u001b[0m \u001b[0mself\u001b[0m\u001b[0;34m.\u001b[0m\u001b[0mconnection\u001b[0m\u001b[0;34m:\u001b[0m\u001b[0;34m\u001b[0m\u001b[0;34m\u001b[0m\u001b[0m\n\u001b[0;32m---> 65\u001b[0;31m             \u001b[0;32mraise\u001b[0m \u001b[0merr\u001b[0m\u001b[0;34m.\u001b[0m\u001b[0mProgrammingError\u001b[0m\u001b[0;34m(\u001b[0m\u001b[0;34m\"Cursor closed\"\u001b[0m\u001b[0;34m)\u001b[0m\u001b[0;34m\u001b[0m\u001b[0;34m\u001b[0m\u001b[0m\n\u001b[0m\u001b[1;32m     66\u001b[0m         \u001b[0;32mreturn\u001b[0m \u001b[0mself\u001b[0m\u001b[0;34m.\u001b[0m\u001b[0mconnection\u001b[0m\u001b[0;34m\u001b[0m\u001b[0;34m\u001b[0m\u001b[0m\n\u001b[1;32m     67\u001b[0m \u001b[0;34m\u001b[0m\u001b[0m\n",
      "\u001b[0;31mProgrammingError\u001b[0m: Cursor closed"
     ]
    }
   ],
   "source": [
    "sql = \"INSERT INTO trading_bot_tradingrecord VALUES ({}, {}, {}, {}, {}, {}, {}, {}, {})\".format(avg_price,\n",
    "                                                                    executed_qty, fee, cum_quote, side, status, _type, symbol, time)\n",
    "curs.execute(sql)"
   ]
  },
  {
   "cell_type": "code",
   "execution_count": 30,
   "metadata": {
    "ExecuteTime": {
     "end_time": "2021-10-24T14:09:44.205490Z",
     "start_time": "2021-10-24T14:09:44.123685Z"
    }
   },
   "outputs": [
    {
     "name": "stdout",
     "output_type": "stream",
     "text": [
      "{'info': {'orderId': '8389765509512670860', 'symbol': 'ETHUSDT', 'status': 'FILLED', 'clientOrderId': 'x-xcKtGhcu50626851644d5400c52fbf', 'price': '0', 'avgPrice': '4051.08000', 'origQty': '0.010', 'executedQty': '0.010', 'cumQuote': '40.51080', 'timeInForce': 'GTC', 'type': 'MARKET', 'reduceOnly': False, 'closePosition': False, 'side': 'BUY', 'positionSide': 'BOTH', 'stopPrice': '0', 'workingType': 'CONTRACT_PRICE', 'priceProtect': False, 'origType': 'MARKET', 'time': '1635084274865', 'updateTime': '1635084274865'}, 'id': '8389765509512670860', 'clientOrderId': 'x-xcKtGhcu50626851644d5400c52fbf', 'timestamp': 1635084274865, 'datetime': '2021-10-24T14:04:34.865Z', 'lastTradeTimestamp': None, 'symbol': 'ETH/USDT', 'type': 'market', 'timeInForce': 'GTC', 'postOnly': False, 'side': 'buy', 'price': 4051.08, 'stopPrice': None, 'amount': 0.01, 'cost': 40.5108, 'average': 4051.08, 'filled': 0.01, 'remaining': 0.0, 'status': 'closed', 'fee': None, 'trades': [], 'fees': []}\n"
     ]
    }
   ],
   "source": [
    "resp = binance.fetch_order(8389765509512670860, \"ETH/USDT\")\n",
    "print(resp)"
   ]
  },
  {
   "cell_type": "code",
   "execution_count": 31,
   "metadata": {
    "ExecuteTime": {
     "end_time": "2021-10-24T14:14:22.437659Z",
     "start_time": "2021-10-24T14:14:22.431343Z"
    }
   },
   "outputs": [
    {
     "name": "stdout",
     "output_type": "stream",
     "text": [
      "{'amount': 0.01,\n",
      " 'average': 4051.08,\n",
      " 'clientOrderId': 'x-xcKtGhcu50626851644d5400c52fbf',\n",
      " 'cost': 40.5108,\n",
      " 'datetime': '2021-10-24T14:04:34.865Z',\n",
      " 'fee': None,\n",
      " 'fees': [],\n",
      " 'filled': 0.01,\n",
      " 'id': '8389765509512670860',\n",
      " 'info': {'avgPrice': '4051.08000',\n",
      "          'clientOrderId': 'x-xcKtGhcu50626851644d5400c52fbf',\n",
      "          'closePosition': False,\n",
      "          'cumQuote': '40.51080',\n",
      "          'executedQty': '0.010',\n",
      "          'orderId': '8389765509512670860',\n",
      "          'origQty': '0.010',\n",
      "          'origType': 'MARKET',\n",
      "          'positionSide': 'BOTH',\n",
      "          'price': '0',\n",
      "          'priceProtect': False,\n",
      "          'reduceOnly': False,\n",
      "          'side': 'BUY',\n",
      "          'status': 'FILLED',\n",
      "          'stopPrice': '0',\n",
      "          'symbol': 'ETHUSDT',\n",
      "          'time': '1635084274865',\n",
      "          'timeInForce': 'GTC',\n",
      "          'type': 'MARKET',\n",
      "          'updateTime': '1635084274865',\n",
      "          'workingType': 'CONTRACT_PRICE'},\n",
      " 'lastTradeTimestamp': None,\n",
      " 'postOnly': False,\n",
      " 'price': 4051.08,\n",
      " 'remaining': 0.0,\n",
      " 'side': 'buy',\n",
      " 'status': 'closed',\n",
      " 'stopPrice': None,\n",
      " 'symbol': 'ETH/USDT',\n",
      " 'timeInForce': 'GTC',\n",
      " 'timestamp': 1635084274865,\n",
      " 'trades': [],\n",
      " 'type': 'market'}\n"
     ]
    }
   ],
   "source": [
    "import pprint\n",
    "\n",
    "pprint.pprint(resp)"
   ]
  },
  {
   "cell_type": "code",
   "execution_count": 55,
   "metadata": {
    "ExecuteTime": {
     "end_time": "2021-10-24T14:34:58.336278Z",
     "start_time": "2021-10-24T14:34:58.082080Z"
    }
   },
   "outputs": [],
   "source": [
    "balance = binance.fetch_balance()\n",
    "\n",
    "# 현재 구매 수량을 불러옴\n",
    "result = 0\n",
    "for position in balance['info']['positions']:\n",
    "    if position['symbol'] == \"ETHUSDT\":\n",
    "        result = position['positionAmt']\n",
    "        break\n",
    "        \n",
    "order = binance.create_market_sell_order('ETH/USDT', result) # 시장가\n"
   ]
  },
  {
   "cell_type": "code",
   "execution_count": 56,
   "metadata": {
    "ExecuteTime": {
     "end_time": "2021-10-24T14:35:22.972312Z",
     "start_time": "2021-10-24T14:35:22.967634Z"
    }
   },
   "outputs": [
    {
     "data": {
      "text/plain": [
       "{'info': {'orderId': '8389765509513647536',\n",
       "  'symbol': 'ETHUSDT',\n",
       "  'status': 'FILLED',\n",
       "  'clientOrderId': 'x-xcKtGhcude79c8ca5a569c80bbf2b',\n",
       "  'price': '0',\n",
       "  'avgPrice': '4042.69000',\n",
       "  'origQty': '0.010',\n",
       "  'executedQty': '0.010',\n",
       "  'cumQty': '0.010',\n",
       "  'cumQuote': '40.42690',\n",
       "  'timeInForce': 'GTC',\n",
       "  'type': 'MARKET',\n",
       "  'reduceOnly': False,\n",
       "  'closePosition': False,\n",
       "  'side': 'SELL',\n",
       "  'positionSide': 'BOTH',\n",
       "  'stopPrice': '0',\n",
       "  'workingType': 'CONTRACT_PRICE',\n",
       "  'priceProtect': False,\n",
       "  'origType': 'MARKET',\n",
       "  'updateTime': '1635086098456'},\n",
       " 'id': '8389765509513647536',\n",
       " 'clientOrderId': 'x-xcKtGhcude79c8ca5a569c80bbf2b',\n",
       " 'timestamp': None,\n",
       " 'datetime': None,\n",
       " 'lastTradeTimestamp': None,\n",
       " 'symbol': 'ETH/USDT',\n",
       " 'type': 'market',\n",
       " 'timeInForce': 'GTC',\n",
       " 'postOnly': False,\n",
       " 'side': 'sell',\n",
       " 'price': 4042.69,\n",
       " 'stopPrice': None,\n",
       " 'amount': 0.01,\n",
       " 'cost': 40.4269,\n",
       " 'average': 4042.69,\n",
       " 'filled': 0.01,\n",
       " 'remaining': 0.0,\n",
       " 'status': 'closed',\n",
       " 'fee': None,\n",
       " 'trades': [],\n",
       " 'fees': []}"
      ]
     },
     "execution_count": 56,
     "metadata": {},
     "output_type": "execute_result"
    }
   ],
   "source": [
    "order"
   ]
  },
  {
   "cell_type": "code",
   "execution_count": 57,
   "metadata": {
    "ExecuteTime": {
     "end_time": "2021-10-24T14:36:20.751521Z",
     "start_time": "2021-10-24T14:36:20.701459Z"
    }
   },
   "outputs": [
    {
     "name": "stdout",
     "output_type": "stream",
     "text": [
      "{'info': {'orderId': '8389765509513647536', 'symbol': 'ETHUSDT', 'status': 'FILLED', 'clientOrderId': 'x-xcKtGhcude79c8ca5a569c80bbf2b', 'price': '0', 'avgPrice': '4042.69000', 'origQty': '0.010', 'executedQty': '0.010', 'cumQuote': '40.42690', 'timeInForce': 'GTC', 'type': 'MARKET', 'reduceOnly': False, 'closePosition': False, 'side': 'SELL', 'positionSide': 'BOTH', 'stopPrice': '0', 'workingType': 'CONTRACT_PRICE', 'priceProtect': False, 'origType': 'MARKET', 'time': '1635086098455', 'updateTime': '1635086098456'}, 'id': '8389765509513647536', 'clientOrderId': 'x-xcKtGhcude79c8ca5a569c80bbf2b', 'timestamp': 1635086098455, 'datetime': '2021-10-24T14:34:58.455Z', 'lastTradeTimestamp': None, 'symbol': 'ETH/USDT', 'type': 'market', 'timeInForce': 'GTC', 'postOnly': False, 'side': 'sell', 'price': 4042.69, 'stopPrice': None, 'amount': 0.01, 'cost': 40.4269, 'average': 4042.69, 'filled': 0.01, 'remaining': 0.0, 'status': 'closed', 'fee': None, 'trades': [], 'fees': []}\n"
     ]
    }
   ],
   "source": [
    "resp = binance.fetch_order(8389765509513647536, \"ETH/USDT\")\n",
    "print(resp)"
   ]
  },
  {
   "cell_type": "code",
   "execution_count": 59,
   "metadata": {
    "ExecuteTime": {
     "end_time": "2021-10-25T12:08:43.213549Z",
     "start_time": "2021-10-25T12:08:43.203711Z"
    }
   },
   "outputs": [
    {
     "name": "stdout",
     "output_type": "stream",
     "text": [
      "{'amount': 0.01,\n",
      " 'average': 4042.69,\n",
      " 'clientOrderId': 'x-xcKtGhcude79c8ca5a569c80bbf2b',\n",
      " 'cost': 40.4269,\n",
      " 'datetime': '2021-10-24T14:34:58.455Z',\n",
      " 'fee': None,\n",
      " 'fees': [],\n",
      " 'filled': 0.01,\n",
      " 'id': '8389765509513647536',\n",
      " 'info': {'avgPrice': '4042.69000',\n",
      "          'clientOrderId': 'x-xcKtGhcude79c8ca5a569c80bbf2b',\n",
      "          'closePosition': False,\n",
      "          'cumQuote': '40.42690',\n",
      "          'executedQty': '0.010',\n",
      "          'orderId': '8389765509513647536',\n",
      "          'origQty': '0.010',\n",
      "          'origType': 'MARKET',\n",
      "          'positionSide': 'BOTH',\n",
      "          'price': '0',\n",
      "          'priceProtect': False,\n",
      "          'reduceOnly': False,\n",
      "          'side': 'SELL',\n",
      "          'status': 'FILLED',\n",
      "          'stopPrice': '0',\n",
      "          'symbol': 'ETHUSDT',\n",
      "          'time': '1635086098455',\n",
      "          'timeInForce': 'GTC',\n",
      "          'type': 'MARKET',\n",
      "          'updateTime': '1635086098456',\n",
      "          'workingType': 'CONTRACT_PRICE'},\n",
      " 'lastTradeTimestamp': None,\n",
      " 'postOnly': False,\n",
      " 'price': 4042.69,\n",
      " 'remaining': 0.0,\n",
      " 'side': 'sell',\n",
      " 'status': 'closed',\n",
      " 'stopPrice': None,\n",
      " 'symbol': 'ETH/USDT',\n",
      " 'timeInForce': 'GTC',\n",
      " 'timestamp': 1635086098455,\n",
      " 'trades': [],\n",
      " 'type': 'market'}\n",
      "---\n",
      "{'avgPrice': '4042.69000',\n",
      " 'clientOrderId': 'x-xcKtGhcude79c8ca5a569c80bbf2b',\n",
      " 'closePosition': False,\n",
      " 'cumQuote': '40.42690',\n",
      " 'executedQty': '0.010',\n",
      " 'orderId': '8389765509513647536',\n",
      " 'origQty': '0.010',\n",
      " 'origType': 'MARKET',\n",
      " 'positionSide': 'BOTH',\n",
      " 'price': '0',\n",
      " 'priceProtect': False,\n",
      " 'reduceOnly': False,\n",
      " 'side': 'SELL',\n",
      " 'status': 'FILLED',\n",
      " 'stopPrice': '0',\n",
      " 'symbol': 'ETHUSDT',\n",
      " 'time': '1635086098455',\n",
      " 'timeInForce': 'GTC',\n",
      " 'type': 'MARKET',\n",
      " 'updateTime': '1635086098456',\n",
      " 'workingType': 'CONTRACT_PRICE'}\n",
      "4042.69 0.01 SELL FILLED 40.4269 MARKET ETHUSDT 2021-10-24 23:34:58.455000 0.016170760000000003 40.4269\n"
     ]
    }
   ],
   "source": [
    "import json\n",
    "import pprint\n",
    "from datetime import datetime\n",
    "\n",
    "s = \"{'info': {'orderId': '8389765509513647536', 'symbol': 'ETHUSDT', 'status': 'FILLED', 'clientOrderId': 'x-xcKtGhcude79c8ca5a569c80bbf2b', 'price': '0', 'avgPrice': '4042.69000', 'origQty': '0.010', 'executedQty': '0.010', 'cumQuote': '40.42690', 'timeInForce': 'GTC', 'type': 'MARKET', 'reduceOnly': False, 'closePosition': False, 'side': 'SELL', 'positionSide': 'BOTH', 'stopPrice': '0', 'workingType': 'CONTRACT_PRICE', 'priceProtect': False, 'origType': 'MARKET', 'time': '1635086098455', 'updateTime': '1635086098456'}, 'id': '8389765509513647536', 'clientOrderId': 'x-xcKtGhcude79c8ca5a569c80bbf2b', 'timestamp': 1635086098455, 'datetime': '2021-10-24T14:34:58.455Z', 'lastTradeTimestamp': None, 'symbol': 'ETH/USDT', 'type': 'market', 'timeInForce': 'GTC', 'postOnly': False, 'side': 'sell', 'price': 4042.69, 'stopPrice': None, 'amount': 0.01, 'cost': 40.4269, 'average': 4042.69, 'filled': 0.01, 'remaining': 0.0, 'status': 'closed', 'fee': None, 'trades': [], 'fees': []}\"\n",
    "\n",
    "pprint.pprint(eval(s))\n",
    "\n",
    "print(\"---\")\n",
    "s = eval(s.replace(\"'\", \"\\\"\"))['info']\n",
    "\n",
    "pprint.pprint(s)\n",
    "\n",
    "\n",
    "avgPrice = float(s['avgPrice'])\n",
    "executedQty = float(s['executedQty'])\n",
    "side = s['side']\n",
    "status = s['status']\n",
    "_type = s['type']\n",
    "symbol = s['symbol']\n",
    "time = datetime.fromtimestamp(int(s['time']) / 1000)\n",
    "fee = float(s['cumQuote']) * 0.0004\n",
    "cumQuote = float(s['cumQuote'])\n",
    "\n",
    "\n",
    "print(avgPrice, executedQty, side, status, cumQuote, _type, symbol, time, fee, cumQuote)\n",
    "\n"
   ]
  },
  {
   "cell_type": "code",
   "execution_count": 53,
   "metadata": {
    "ExecuteTime": {
     "end_time": "2021-10-25T11:49:24.737668Z",
     "start_time": "2021-10-25T11:49:24.734486Z"
    }
   },
   "outputs": [
    {
     "data": {
      "text/plain": [
       "0.016170760000000003"
      ]
     },
     "execution_count": 53,
     "metadata": {},
     "output_type": "execute_result"
    }
   ],
   "source": [
    "# 0.01617076 * ? = 40.4269 / ?\n",
    "\n",
    "# 0.04 수수료 발생\n",
    "\n",
    "40.4269 * 0.0004"
   ]
  },
  {
   "cell_type": "code",
   "execution_count": null,
   "metadata": {
    "ExecuteTime": {
     "end_time": "2021-10-10T14:55:49.699667Z",
     "start_time": "2021-10-10T14:55:49.399599Z"
    }
   },
   "outputs": [],
   "source": [
    "import ccxt\n",
    "import logging\n",
    "import requests\n",
    "import json \n",
    "\n",
    "# Api key : Dt81SVf8CiRnZI6HurMfPE2L128PpufdG9aSaONfbh4qjICmtdJJfk0mFjFEine1\n",
    "\n",
    "# Secret key : 3fSbN60xhXWzL0mrzw4Jy1NSzdGLUnPtx9XukNcgUV7XQrZE6WNZmIBCouQpkfL7\n",
    "\n",
    "\n",
    "logger = logging.getLogger()\n",
    "\n",
    "class AuthenticationError(Exception):\n",
    "    logger.error(\"인증 정보가 틀립니다.\")\n",
    "    \n",
    "\n",
    "def authorize():\n",
    "    auth_dict = (yield)\n",
    "    binance = ccxt.binance(config={\n",
    "    'apiKey': auth_dict.get(\"api_key\"),\n",
    "    'secret': auth_dict.get(\"secret\"),\n",
    "    'enableRateLimit': True,\n",
    "    'options': {\n",
    "        'defaultType': 'future'\n",
    "    }})\n",
    "\n",
    "    balance = binance.fetch_balance()\n",
    "    return balance\n",
    "\n",
    "    while True:\n",
    "        print(\"여기\")\n",
    "        break\n",
    "        \n",
    "def get_auth_info():\n",
    "    try:\n",
    "        auth_dict = json.loads(requests.get(\"\"))\n",
    "        \n",
    "    except json.JSONDecodeError:\n",
    "        logger.error(\"입력이 올바르지 않습니다.\")\n",
    "    \n",
    "    try:\n",
    "        auth = authorize()\n",
    "        next(auth)\n",
    "    except ccxt.AuthenticationError:\n",
    "        print(\"!\")\n",
    "\n",
    "    \n",
    "    return auth_dict\n",
    "    \n",
    "\n",
    "# while True:\n",
    "    \n",
    "    auth_dict = {\"api_key\":'Dt81SVf8CiRnZI6HurMfPE2L128PpufdG9aSaONfbh4qjICmtdJJfk0mFjFEine1' , \"secret\":'3fSbN60xhXWzL0mrzw4Jy1NSzdGLUnPtx9XukNcgUV7XQrZE6WNZmIBCouQpkfL7' }\n",
    "\n",
    "    try:\n",
    "        auth.send(auth_dict)\n",
    "\n",
    "    \n",
    "# is_possible = yield from authorize()\n",
    "# print(is_possible)\n",
    "\n",
    "# for i in range(1, 11):\n",
    "#     co.send(i)\n",
    "# co.send(None)\n",
    "\n",
    "# for i in range(1, 101):\n",
    "#     co.send(i)\n",
    "# co.send(None)\n"
   ]
  },
  {
   "cell_type": "code",
   "execution_count": null,
   "metadata": {
    "ExecuteTime": {
     "end_time": "2021-10-10T14:28:10.326239Z",
     "start_time": "2021-10-10T14:28:10.311769Z"
    }
   },
   "outputs": [],
   "source": [
    "\n",
    "\n",
    "\n",
    "binance = ccxt.binance(config={\n",
    "    'apiKey': auth_dict.get(\"api_key\"),\n",
    "    'secret': auth_dict.get(\"secret\"),\n",
    "    'enableRateLimit': True,\n",
    "    'options': {\n",
    "        'defaultType': 'future'\n",
    "    }\n",
    "})"
   ]
  },
  {
   "cell_type": "code",
   "execution_count": null,
   "metadata": {
    "ExecuteTime": {
     "end_time": "2021-10-10T15:07:46.610430Z",
     "start_time": "2021-10-10T15:07:46.607883Z"
    }
   },
   "outputs": [],
   "source": [
    "try:\n",
    "    auth_dict = json.loads('x')\n",
    "except json.JSONDecodeError:\n",
    "    pass"
   ]
  },
  {
   "cell_type": "code",
   "execution_count": null,
   "metadata": {},
   "outputs": [],
   "source": [
    "\n",
    "balance = binance.fetch_balance()\n",
    "usdt = balance['total']['USDT']\n",
    "\n",
    "eth = binance.fetch_ticker(symbol=symbol)\n",
    "cur_price = eth['last']"
   ]
  },
  {
   "cell_type": "code",
   "execution_count": null,
   "metadata": {},
   "outputs": [],
   "source": [
    "import ccxt\n",
    "\n",
    "\n",
    "def number_coroutine():\n",
    "    while True:\n",
    "        x = (yield)\n",
    "        print(x)\n",
    "\n",
    "co = number_coroutine()\n",
    "next(co)\n",
    "\n",
    "co.send(1)\n",
    "co.send(2)\n",
    "co.send(3)\n",
    "\n",
    "def authorize():\n",
    "    auth_dict = (yield)\n",
    "\n",
    "    binance = ccxt.binance(config={\n",
    "        'apiKey': auth_dict.get(\"api_key\"),\n",
    "        'secret': auth_dict.get(\"secret\"),\n",
    "        'enableRateLimit': True,\n",
    "        'options': {\n",
    "            'defaultType': 'future'\n",
    "        }\n",
    "    })\n",
    "\n",
    "# while True:\n",
    "#     x = (yield)\n",
    "#     if x is None:\n",
    "#         return total\n",
    "#     total += x\n",
    "#\n",
    "# def sum_coroutine():\n",
    "#     while True:\n",
    "#         total = yield from accumultate()\n",
    "#         print(total)\n",
    "\n",
    "auth = authorize()\n",
    "next(auth)\n",
    "\n",
    "for i in range(1, 11):\n",
    "    co.send(i)\n",
    "co.send(None)\n",
    "\n",
    "for i in range(1, 101):\n",
    "    co.send(i)import ccxt\n",
    "\n",
    "\n",
    "def number_coroutine():\n",
    "    while True:\n",
    "        x = (yield)\n",
    "        print(x)\n",
    "\n",
    "co = number_coroutine()\n",
    "next(co)\n",
    "\n",
    "co.send(1)\n",
    "co.send(2)\n",
    "co.send(3)\n",
    "\n",
    "def authorize():\n",
    "    auth_dict = (yield)\n",
    "\n",
    "    binance = ccxt.binance(config={\n",
    "        'apiKey': auth_dict.get(\"api_key\"),\n",
    "        'secret': auth_dict.get(\"secret\"),\n",
    "        'enableRateLimit': True,\n",
    "        'options': {\n",
    "            'defaultType': 'future'\n",
    "        }\n",
    "    })\n",
    "\n",
    "\n",
    "\n",
    "\n",
    "# while True:\n",
    "#     x = (yield)\n",
    "#     if x is None:\n",
    "#         return total\n",
    "#     total += x\n",
    "#\n",
    "# def sum_coroutine():\n",
    "#     while True:\n",
    "#         total = yield from accumultate()\n",
    "#         print(total)\n",
    "\n",
    "auth = authorize()\n",
    "next(auth)\n",
    "\n",
    "for i in range(1, 11):\n",
    "    co.send(i)\n",
    "co.send(None)\n",
    "\n",
    "for i in range(1, 101):\n",
    "    co.send(i)\n",
    "co.send(None)\n",
    "\n",
    "co.send(None)\n"
   ]
  },
  {
   "cell_type": "code",
   "execution_count": 5,
   "metadata": {
    "ExecuteTime": {
     "end_time": "2021-10-13T14:47:57.945901Z",
     "start_time": "2021-10-13T14:47:57.541063Z"
    },
    "code_folding": []
   },
   "outputs": [
    {
     "name": "stdout",
     "output_type": "stream",
     "text": [
      "[{'user': {'username': 'minsung', 'secret': '3fSbN60xhXWzL0mrzw4Jy1NSzdGLUnPtx9XukNcgUV7XQrZE6WNZmIBCouQpkfL7', 'api_key': 'Dt81SVf8CiRnZI6HurMfPE2L128PpufdG9aSaONfbh4qjICmtdJJfk0mFjFEine1', 'is_trading': True}, 'binance': ccxt.binance(), 'usdt_balance': 831.14009362}]\n"
     ]
    }
   ],
   "source": [
    "import requests\n",
    "import time\n",
    "from datetime import datetime, timedelta\n",
    "import ccxt\n",
    "\n",
    "def get_user_list():\n",
    "    res = requests.get(\"http://localhost:8000/trading/userlist/\")\n",
    "    return json.loads(res.text)\n",
    "\n",
    "def check_mode(users_info):\n",
    "    if datetime.now().strftime(\"%H:%M\") == '09:00':\n",
    "        users_info = get_user_list()\n",
    "        \n",
    "    trading_user_list = []\n",
    "    for user in users_info:\n",
    "        \n",
    "        if user['is_trading']:\n",
    "            yield user\n",
    "\n",
    "userlist = get_user_list()\n",
    "check_mode(userlist)\n",
    "\n",
    "while True:\n",
    "    trading_user_info_list = []\n",
    "    symbol = \"ETH/USDT\"\n",
    "    long_target, short_target, ma20_condition, before_day_condition = util.cal_target(binance, symbol)\n",
    "    print(\"long 목표가: \", long_target, \"\\nshort 목표가: \", short_target)\n",
    "    \n",
    "    for user in check_mode(userlist):\n",
    "        user_dict = dict()\n",
    "        user_dict['user'] = user\n",
    "        binance = ccxt.binance(config={\n",
    "                                'apiKey': user['api_key'],\n",
    "                                'secret': user['secret'],\n",
    "                                'enableRateLimit': True,\n",
    "                                'options': {\n",
    "                                    'defaultType': 'future'\n",
    "                                }})\n",
    "        \n",
    "        balance = binance.fetch_balance()\n",
    "        usdt = balance['total']['USDT']\n",
    "        \n",
    "        user_dict['binance'] = binance\n",
    "        user_dict['usdt_balance'] = usdt\n",
    "        \n",
    "        trading_user_info_list.append(user_dict)\n",
    "        \n",
    "    print(trading_user_info_list)\n",
    "#     while True:\n",
    "        \n",
    "        \n",
    "    break\n",
    "    \n",
    "    \n",
    "\n",
    "    \n",
    "    \n",
    "        \n",
    "    \n",
    "    \n",
    "    \n",
    "    \n",
    "    # 트레이딩 알고리즘\n",
    "    \n"
   ]
  },
  {
   "cell_type": "code",
   "execution_count": null,
   "metadata": {
    "ExecuteTime": {
     "end_time": "2021-10-12T16:13:33.120544Z",
     "start_time": "2021-10-12T16:13:33.000545Z"
    }
   },
   "outputs": [],
   "source": [
    "import requests\n",
    "import json\n",
    "\n",
    "res = requests.get(\"http://localhost:8000/trading/requirements/minsung\")\n",
    "result = json.loads(res.text)\n",
    "print(result)\n"
   ]
  },
  {
   "cell_type": "code",
   "execution_count": null,
   "metadata": {
    "ExecuteTime": {
     "end_time": "2021-10-13T13:53:49.905556Z",
     "start_time": "2021-10-13T13:53:49.901697Z"
    }
   },
   "outputs": [],
   "source": [
    "parser = argparse.ArgumentParser(description='')\n",
    "parser.add_argument('--api_key', metavar='api_key', required=True,\n",
    "                    help='api_key')\n",
    "parser.add_argument('--secret', metavar='secret', required=True,\n",
    "                    help='secret')\n",
    "\n",
    "args = parser.parse_args()\n",
    "api_key = args.api_key\n",
    "secret = args.secret\n",
    "\n",
    "# binance 객체 생성\n",
    "binance = ccxt.binance(config={\n",
    "    'apiKey': api_key,\n",
    "    'secret': secret,\n",
    "    'enableRateLimit': True,\n",
    "    'options': {\n",
    "        'defaultType': 'future'\n",
    "    }\n",
    "})\n",
    "\n",
    "\n",
    "symbol = \"ETH/USDT\"\n",
    "long_target, short_target, ma20_condition, before_day_condition = util.cal_target(binance, symbol)\n",
    "\n",
    "# 잔고 조회\n",
    "balance = binance.fetch_balance()\n",
    "usdt = balance['total']['USDT']\n",
    "\n",
    "eth = binance.fetch_ticker(symbol=symbol)\n",
    "cur_price = eth['last']\n",
    "\n",
    "position = {\n",
    "    \"type\": None,\n",
    "    \"amount\": 0\n",
    "}\n",
    "op_mode = False\n",
    "\n",
    "print(\"long 목표가: \", long_target, \"\\nshort 목표가: \", short_target)\n",
    "\n",
    "if short_target <= cur_price <= long_target:\n",
    "    print(\"프로그램 실행 시점에서 거래 가능 구간\")\n",
    "    op_mode = True\n",
    "\n",
    "while True:\n",
    "    now = datetime.datetime.now()\n",
    "\n",
    "    # position 종료\n",
    "    if now.hour == 8 and now.minute == 50 and (20 <= now.second < 30):\n",
    "        if op_mode and position['type'] is not None:\n",
    "            util.exit_position(binance, symbol, position)\n",
    "            op_mode = False\n",
    "            position['type'] = None\n",
    "\n",
    "    # 목표가 갱신\n",
    "    if now.hour == 9 and now.minute == 0 and (20 <= now.second < 30):\n",
    "        long_target, short_target, ma20_condition, before_day_condition = util.cal_target(binance, symbol)\n",
    "\n",
    "        balance = binance.fetch_balance()\n",
    "        usdt = balance['total']['USDT']\n",
    "        op_mode = True\n",
    "        time.sleep(10)\n",
    "\n",
    "    # 현재가, 구매 가능 수량\n",
    "    eth = binance.fetch_ticker(symbol=symbol)\n",
    "    cur_price = eth['last']\n",
    "    amount = util.cal_amount(usdt, cur_price, 0.95)\n",
    "\n",
    "    if op_mode and position['type'] is None:\n",
    "        position['type'], invest_amount = util.enter_position(binance, symbol, cur_price, long_target, short_target, amount, position, ma20_condition, before_day_condition)\n",
    "        if position['type']:\n",
    "            print(f\"{position['type']}포지션 진입, 투자금 {invest_amount}\")\n",
    "\n",
    "    time.sleep(1)\n"
   ]
  },
  {
   "cell_type": "code",
   "execution_count": 6,
   "metadata": {
    "ExecuteTime": {
     "end_time": "2021-10-13T15:40:14.692182Z",
     "start_time": "2021-10-13T15:40:14.688839Z"
    }
   },
   "outputs": [
    {
     "ename": "SyntaxError",
     "evalue": "unexpected EOF while parsing (<ipython-input-6-4b57b359f685>, line 2)",
     "output_type": "error",
     "traceback": [
      "\u001b[0;36m  File \u001b[0;32m\"<ipython-input-6-4b57b359f685>\"\u001b[0;36m, line \u001b[0;32m2\u001b[0m\n\u001b[0;31m    if now.hour == 9 and now.minute == 0 and (10 <= now.second < 20):\u001b[0m\n\u001b[0m                                                                     ^\u001b[0m\n\u001b[0;31mSyntaxError\u001b[0m\u001b[0;31m:\u001b[0m unexpected EOF while parsing\n"
     ]
    }
   ],
   "source": [
    "now = datetime.now()\n",
    "if now.hour == 9 and now.minute == 0 and (10 <= now.second < 20):\n",
    "    "
   ]
  },
  {
   "cell_type": "code",
   "execution_count": 18,
   "metadata": {
    "ExecuteTime": {
     "end_time": "2021-10-13T15:48:35.478456Z",
     "start_time": "2021-10-13T15:48:35.474859Z"
    }
   },
   "outputs": [
    {
     "name": "stdout",
     "output_type": "stream",
     "text": [
      "True\n"
     ]
    }
   ],
   "source": [
    "now = datetime.now()\n",
    "\n",
    "start = now.replace(hour=9, minute=0, second=20)\n",
    "\n",
    "end = now.replace(hour=8, minute=55, second=0)\n",
    "\n",
    "if now > a or now < b:   # 현재시간이 9시 00분보다 크거나 8:55분보다는 작은 경우\n",
    "    print(True)\n",
    "\n"
   ]
  },
  {
   "cell_type": "code",
   "execution_count": null,
   "metadata": {},
   "outputs": [],
   "source": [
    "from_date = datetime.now() - timedelta(5)\n",
    "\n",
    "new_ending_date = datetime.now()\n",
    "r = requests.get ('https://api.binance.com/api/v3/aggTrades',\n",
    "params = {\n",
    "    \"USDT\": 'ETH/USDT',\n",
    "\"startTime\": get_unix_ms_from_date (from_date),\n",
    "\"endTime\": get_unix_ms_from_date (new_ending_date)\n",
    "})응답 = r.json ()"
   ]
  },
  {
   "cell_type": "code",
   "execution_count": 2,
   "metadata": {
    "ExecuteTime": {
     "end_time": "2021-10-14T13:25:36.987909Z",
     "start_time": "2021-10-14T13:25:36.975156Z"
    }
   },
   "outputs": [],
   "source": [
    "import ccxt\n",
    "\n",
    "binance = ccxt.binance()\n",
    "\n",
    "d = binance.fetch_currencies()"
   ]
  },
  {
   "cell_type": "code",
   "execution_count": 87,
   "metadata": {
    "ExecuteTime": {
     "end_time": "2021-10-14T14:54:01.805057Z",
     "start_time": "2021-10-14T14:54:01.792362Z"
    }
   },
   "outputs": [],
   "source": [
    "user_binance = ccxt.binance(config={\n",
    "    'apiKey': 'Dt81SVf8CiRnZI6HurMfPE2L128PpufdG9aSaONfbh4qjICmtdJJfk0mFjFEine1',\n",
    "    'secret': '3fSbN60xhXWzL0mrzw4Jy1NSzdGLUnPtx9XukNcgUV7XQrZE6WNZmIBCouQpkfL7',\n",
    "    'enableRateLimit': True,\n",
    "    'options': {\n",
    "        'defaultType': 'future'\n",
    "    }})\n",
    "\n",
    "# if user_binance.has['fetchMyTrades']:\n",
    "#     d = user_binance.fetchMyTrades(symbol=\"ETH/USDT\", since=1634221000000)\n",
    "#     print(d)  "
   ]
  },
  {
   "cell_type": "code",
   "execution_count": 19,
   "metadata": {
    "ExecuteTime": {
     "end_time": "2021-10-14T13:53:08.632413Z",
     "start_time": "2021-10-14T13:53:08.624159Z"
    },
    "scrolled": false
   },
   "outputs": [
    {
     "ename": "NotSupported",
     "evalue": "fetch_transactions() is not supported yet",
     "output_type": "error",
     "traceback": [
      "\u001b[0;31m---------------------------------------------------------------------------\u001b[0m",
      "\u001b[0;31mNotSupported\u001b[0m                              Traceback (most recent call last)",
      "\u001b[0;32m<ipython-input-19-4f48be37c577>\u001b[0m in \u001b[0;36m<module>\u001b[0;34m\u001b[0m\n\u001b[0;32m----> 1\u001b[0;31m \u001b[0muser_binance\u001b[0m\u001b[0;34m.\u001b[0m\u001b[0mfetch_transactions\u001b[0m\u001b[0;34m(\u001b[0m\u001b[0;34m)\u001b[0m\u001b[0;34m\u001b[0m\u001b[0;34m\u001b[0m\u001b[0m\n\u001b[0m",
      "\u001b[0;32m/opt/anaconda3/lib/python3.8/site-packages/ccxt/base/exchange.py\u001b[0m in \u001b[0;36mfetch_transactions\u001b[0;34m(self, code, since, limit, params)\u001b[0m\n\u001b[1;32m   1512\u001b[0m \u001b[0;34m\u001b[0m\u001b[0m\n\u001b[1;32m   1513\u001b[0m     \u001b[0;32mdef\u001b[0m \u001b[0mfetch_transactions\u001b[0m\u001b[0;34m(\u001b[0m\u001b[0mself\u001b[0m\u001b[0;34m,\u001b[0m \u001b[0mcode\u001b[0m\u001b[0;34m=\u001b[0m\u001b[0;32mNone\u001b[0m\u001b[0;34m,\u001b[0m \u001b[0msince\u001b[0m\u001b[0;34m=\u001b[0m\u001b[0;32mNone\u001b[0m\u001b[0;34m,\u001b[0m \u001b[0mlimit\u001b[0m\u001b[0;34m=\u001b[0m\u001b[0;32mNone\u001b[0m\u001b[0;34m,\u001b[0m \u001b[0mparams\u001b[0m\u001b[0;34m=\u001b[0m\u001b[0;34m{\u001b[0m\u001b[0;34m}\u001b[0m\u001b[0;34m)\u001b[0m\u001b[0;34m:\u001b[0m\u001b[0;34m\u001b[0m\u001b[0;34m\u001b[0m\u001b[0m\n\u001b[0;32m-> 1514\u001b[0;31m         \u001b[0;32mraise\u001b[0m \u001b[0mNotSupported\u001b[0m\u001b[0;34m(\u001b[0m\u001b[0;34m'fetch_transactions() is not supported yet'\u001b[0m\u001b[0;34m)\u001b[0m\u001b[0;34m\u001b[0m\u001b[0;34m\u001b[0m\u001b[0m\n\u001b[0m\u001b[1;32m   1515\u001b[0m \u001b[0;34m\u001b[0m\u001b[0m\n\u001b[1;32m   1516\u001b[0m     \u001b[0;32mdef\u001b[0m \u001b[0mfetch_deposits\u001b[0m\u001b[0;34m(\u001b[0m\u001b[0mself\u001b[0m\u001b[0;34m,\u001b[0m \u001b[0mcode\u001b[0m\u001b[0;34m=\u001b[0m\u001b[0;32mNone\u001b[0m\u001b[0;34m,\u001b[0m \u001b[0msince\u001b[0m\u001b[0;34m=\u001b[0m\u001b[0;32mNone\u001b[0m\u001b[0;34m,\u001b[0m \u001b[0mlimit\u001b[0m\u001b[0;34m=\u001b[0m\u001b[0;32mNone\u001b[0m\u001b[0;34m,\u001b[0m \u001b[0mparams\u001b[0m\u001b[0;34m=\u001b[0m\u001b[0;34m{\u001b[0m\u001b[0;34m}\u001b[0m\u001b[0;34m)\u001b[0m\u001b[0;34m:\u001b[0m\u001b[0;34m\u001b[0m\u001b[0;34m\u001b[0m\u001b[0m\n",
      "\u001b[0;31mNotSupported\u001b[0m: fetch_transactions() is not supported yet"
     ]
    }
   ],
   "source": [
    "user_binance.fetch_transactions()"
   ]
  },
  {
   "cell_type": "code",
   "execution_count": 96,
   "metadata": {
    "ExecuteTime": {
     "end_time": "2021-10-14T14:57:30.440411Z",
     "start_time": "2021-10-14T14:57:30.026418Z"
    }
   },
   "outputs": [
    {
     "ename": "InsufficientFunds",
     "evalue": "binance {\"code\":-2019,\"msg\":\"Margin is insufficient.\"}",
     "output_type": "error",
     "traceback": [
      "\u001b[0;31m---------------------------------------------------------------------------\u001b[0m",
      "\u001b[0;31mHTTPError\u001b[0m                                 Traceback (most recent call last)",
      "\u001b[0;32m/opt/anaconda3/lib/python3.8/site-packages/ccxt/base/exchange.py\u001b[0m in \u001b[0;36mfetch\u001b[0;34m(self, url, method, headers, body)\u001b[0m\n\u001b[1;32m    612\u001b[0m             \u001b[0mself\u001b[0m\u001b[0;34m.\u001b[0m\u001b[0mlogger\u001b[0m\u001b[0;34m.\u001b[0m\u001b[0mdebug\u001b[0m\u001b[0;34m(\u001b[0m\u001b[0;34m\"%s %s, Response: %s %s %s\"\u001b[0m\u001b[0;34m,\u001b[0m \u001b[0mmethod\u001b[0m\u001b[0;34m,\u001b[0m \u001b[0murl\u001b[0m\u001b[0;34m,\u001b[0m \u001b[0mhttp_status_code\u001b[0m\u001b[0;34m,\u001b[0m \u001b[0mheaders\u001b[0m\u001b[0;34m,\u001b[0m \u001b[0mhttp_response\u001b[0m\u001b[0;34m)\u001b[0m\u001b[0;34m\u001b[0m\u001b[0;34m\u001b[0m\u001b[0m\n\u001b[0;32m--> 613\u001b[0;31m             \u001b[0mresponse\u001b[0m\u001b[0;34m.\u001b[0m\u001b[0mraise_for_status\u001b[0m\u001b[0;34m(\u001b[0m\u001b[0;34m)\u001b[0m\u001b[0;34m\u001b[0m\u001b[0;34m\u001b[0m\u001b[0m\n\u001b[0m\u001b[1;32m    614\u001b[0m \u001b[0;34m\u001b[0m\u001b[0m\n",
      "\u001b[0;32m/opt/anaconda3/lib/python3.8/site-packages/requests/models.py\u001b[0m in \u001b[0;36mraise_for_status\u001b[0;34m(self)\u001b[0m\n\u001b[1;32m    940\u001b[0m         \u001b[0;32mif\u001b[0m \u001b[0mhttp_error_msg\u001b[0m\u001b[0;34m:\u001b[0m\u001b[0;34m\u001b[0m\u001b[0;34m\u001b[0m\u001b[0m\n\u001b[0;32m--> 941\u001b[0;31m             \u001b[0;32mraise\u001b[0m \u001b[0mHTTPError\u001b[0m\u001b[0;34m(\u001b[0m\u001b[0mhttp_error_msg\u001b[0m\u001b[0;34m,\u001b[0m \u001b[0mresponse\u001b[0m\u001b[0;34m=\u001b[0m\u001b[0mself\u001b[0m\u001b[0;34m)\u001b[0m\u001b[0;34m\u001b[0m\u001b[0;34m\u001b[0m\u001b[0m\n\u001b[0m\u001b[1;32m    942\u001b[0m \u001b[0;34m\u001b[0m\u001b[0m\n",
      "\u001b[0;31mHTTPError\u001b[0m: 400 Client Error: Bad Request for url: https://fapi.binance.com/fapi/v1/order",
      "\nDuring handling of the above exception, another exception occurred:\n",
      "\u001b[0;31mInsufficientFunds\u001b[0m                         Traceback (most recent call last)",
      "\u001b[0;32m<ipython-input-96-404f04fcd0f9>\u001b[0m in \u001b[0;36m<module>\u001b[0;34m\u001b[0m\n\u001b[1;32m     13\u001b[0m })\n\u001b[1;32m     14\u001b[0m \u001b[0;34m\u001b[0m\u001b[0m\n\u001b[0;32m---> 15\u001b[0;31m order = binance.create_market_buy_order(\n\u001b[0m\u001b[1;32m     16\u001b[0m     \u001b[0msymbol\u001b[0m\u001b[0;34m=\u001b[0m\u001b[0;34m\"BTC/USDT\"\u001b[0m\u001b[0;34m,\u001b[0m\u001b[0;34m\u001b[0m\u001b[0;34m\u001b[0m\u001b[0m\n\u001b[1;32m     17\u001b[0m     \u001b[0mamount\u001b[0m\u001b[0;34m=\u001b[0m\u001b[0;36m0.001\u001b[0m\u001b[0;34m\u001b[0m\u001b[0;34m\u001b[0m\u001b[0m\n",
      "\u001b[0;32m/opt/anaconda3/lib/python3.8/site-packages/ccxt/base/exchange.py\u001b[0m in \u001b[0;36mcreate_market_buy_order\u001b[0;34m(self, symbol, amount, params)\u001b[0m\n\u001b[1;32m   2059\u001b[0m \u001b[0;34m\u001b[0m\u001b[0m\n\u001b[1;32m   2060\u001b[0m     \u001b[0;32mdef\u001b[0m \u001b[0mcreate_market_buy_order\u001b[0m\u001b[0;34m(\u001b[0m\u001b[0mself\u001b[0m\u001b[0;34m,\u001b[0m \u001b[0msymbol\u001b[0m\u001b[0;34m,\u001b[0m \u001b[0mamount\u001b[0m\u001b[0;34m,\u001b[0m \u001b[0mparams\u001b[0m\u001b[0;34m=\u001b[0m\u001b[0;34m{\u001b[0m\u001b[0;34m}\u001b[0m\u001b[0;34m)\u001b[0m \u001b[0;34m->\u001b[0m \u001b[0mdict\u001b[0m\u001b[0;34m:\u001b[0m\u001b[0;34m\u001b[0m\u001b[0;34m\u001b[0m\u001b[0m\n\u001b[0;32m-> 2061\u001b[0;31m         \u001b[0;32mreturn\u001b[0m \u001b[0mself\u001b[0m\u001b[0;34m.\u001b[0m\u001b[0mcreate_order\u001b[0m\u001b[0;34m(\u001b[0m\u001b[0msymbol\u001b[0m\u001b[0;34m,\u001b[0m \u001b[0;34m'market'\u001b[0m\u001b[0;34m,\u001b[0m \u001b[0;34m'buy'\u001b[0m\u001b[0;34m,\u001b[0m \u001b[0mamount\u001b[0m\u001b[0;34m,\u001b[0m \u001b[0;32mNone\u001b[0m\u001b[0;34m,\u001b[0m \u001b[0mparams\u001b[0m\u001b[0;34m)\u001b[0m\u001b[0;34m\u001b[0m\u001b[0;34m\u001b[0m\u001b[0m\n\u001b[0m\u001b[1;32m   2062\u001b[0m \u001b[0;34m\u001b[0m\u001b[0m\n\u001b[1;32m   2063\u001b[0m     \u001b[0;32mdef\u001b[0m \u001b[0mcreate_market_sell_order\u001b[0m\u001b[0;34m(\u001b[0m\u001b[0mself\u001b[0m\u001b[0;34m,\u001b[0m \u001b[0msymbol\u001b[0m\u001b[0;34m,\u001b[0m \u001b[0mamount\u001b[0m\u001b[0;34m,\u001b[0m \u001b[0mparams\u001b[0m\u001b[0;34m=\u001b[0m\u001b[0;34m{\u001b[0m\u001b[0;34m}\u001b[0m\u001b[0;34m)\u001b[0m \u001b[0;34m->\u001b[0m \u001b[0mdict\u001b[0m\u001b[0;34m:\u001b[0m\u001b[0;34m\u001b[0m\u001b[0;34m\u001b[0m\u001b[0m\n",
      "\u001b[0;32m/opt/anaconda3/lib/python3.8/site-packages/ccxt/binance.py\u001b[0m in \u001b[0;36mcreate_order\u001b[0;34m(self, symbol, type, side, amount, price, params)\u001b[0m\n\u001b[1;32m   2300\u001b[0m                 \u001b[0mparams\u001b[0m \u001b[0;34m=\u001b[0m \u001b[0mself\u001b[0m\u001b[0;34m.\u001b[0m\u001b[0momit\u001b[0m\u001b[0;34m(\u001b[0m\u001b[0mparams\u001b[0m\u001b[0;34m,\u001b[0m \u001b[0;34m'stopPrice'\u001b[0m\u001b[0;34m)\u001b[0m\u001b[0;34m\u001b[0m\u001b[0;34m\u001b[0m\u001b[0m\n\u001b[1;32m   2301\u001b[0m                 \u001b[0mrequest\u001b[0m\u001b[0;34m[\u001b[0m\u001b[0;34m'stopPrice'\u001b[0m\u001b[0;34m]\u001b[0m \u001b[0;34m=\u001b[0m \u001b[0mself\u001b[0m\u001b[0;34m.\u001b[0m\u001b[0mprice_to_precision\u001b[0m\u001b[0;34m(\u001b[0m\u001b[0msymbol\u001b[0m\u001b[0;34m,\u001b[0m \u001b[0mstopPrice\u001b[0m\u001b[0;34m)\u001b[0m\u001b[0;34m\u001b[0m\u001b[0;34m\u001b[0m\u001b[0m\n\u001b[0;32m-> 2302\u001b[0;31m         \u001b[0mresponse\u001b[0m \u001b[0;34m=\u001b[0m \u001b[0mgetattr\u001b[0m\u001b[0;34m(\u001b[0m\u001b[0mself\u001b[0m\u001b[0;34m,\u001b[0m \u001b[0mmethod\u001b[0m\u001b[0;34m)\u001b[0m\u001b[0;34m(\u001b[0m\u001b[0mself\u001b[0m\u001b[0;34m.\u001b[0m\u001b[0mextend\u001b[0m\u001b[0;34m(\u001b[0m\u001b[0mrequest\u001b[0m\u001b[0;34m,\u001b[0m \u001b[0mparams\u001b[0m\u001b[0;34m)\u001b[0m\u001b[0;34m)\u001b[0m\u001b[0;34m\u001b[0m\u001b[0;34m\u001b[0m\u001b[0m\n\u001b[0m\u001b[1;32m   2303\u001b[0m         \u001b[0;32mreturn\u001b[0m \u001b[0mself\u001b[0m\u001b[0;34m.\u001b[0m\u001b[0mparse_order\u001b[0m\u001b[0;34m(\u001b[0m\u001b[0mresponse\u001b[0m\u001b[0;34m,\u001b[0m \u001b[0mmarket\u001b[0m\u001b[0;34m)\u001b[0m\u001b[0;34m\u001b[0m\u001b[0;34m\u001b[0m\u001b[0m\n\u001b[1;32m   2304\u001b[0m \u001b[0;34m\u001b[0m\u001b[0m\n",
      "\u001b[0;32m/opt/anaconda3/lib/python3.8/site-packages/ccxt/base/exchange.py\u001b[0m in \u001b[0;36minner\u001b[0;34m(_self, params, context)\u001b[0m\n\u001b[1;32m    455\u001b[0m                 \u001b[0;32mif\u001b[0m \u001b[0mcontext\u001b[0m \u001b[0;32mis\u001b[0m \u001b[0;32mnot\u001b[0m \u001b[0;32mNone\u001b[0m\u001b[0;34m:\u001b[0m\u001b[0;34m\u001b[0m\u001b[0;34m\u001b[0m\u001b[0m\n\u001b[1;32m    456\u001b[0m                     \u001b[0minner_kwargs\u001b[0m\u001b[0;34m[\u001b[0m\u001b[0;34m'context'\u001b[0m\u001b[0;34m]\u001b[0m \u001b[0;34m=\u001b[0m \u001b[0mparams\u001b[0m\u001b[0;34m\u001b[0m\u001b[0;34m\u001b[0m\u001b[0m\n\u001b[0;32m--> 457\u001b[0;31m                 \u001b[0;32mreturn\u001b[0m \u001b[0mentry\u001b[0m\u001b[0;34m(\u001b[0m\u001b[0m_self\u001b[0m\u001b[0;34m,\u001b[0m \u001b[0;34m**\u001b[0m\u001b[0minner_kwargs\u001b[0m\u001b[0;34m)\u001b[0m\u001b[0;34m\u001b[0m\u001b[0;34m\u001b[0m\u001b[0m\n\u001b[0m\u001b[1;32m    458\u001b[0m             \u001b[0;32mreturn\u001b[0m \u001b[0minner\u001b[0m\u001b[0;34m\u001b[0m\u001b[0;34m\u001b[0m\u001b[0m\n\u001b[1;32m    459\u001b[0m         \u001b[0mto_bind\u001b[0m \u001b[0;34m=\u001b[0m \u001b[0mpartialer\u001b[0m\u001b[0;34m(\u001b[0m\u001b[0;34m)\u001b[0m\u001b[0;34m\u001b[0m\u001b[0;34m\u001b[0m\u001b[0m\n",
      "\u001b[0;32m/opt/anaconda3/lib/python3.8/site-packages/ccxt/binance.py\u001b[0m in \u001b[0;36mrequest\u001b[0;34m(self, path, api, method, params, headers, body, config, context)\u001b[0m\n\u001b[1;32m   4240\u001b[0m \u001b[0;34m\u001b[0m\u001b[0m\n\u001b[1;32m   4241\u001b[0m     \u001b[0;32mdef\u001b[0m \u001b[0mrequest\u001b[0m\u001b[0;34m(\u001b[0m\u001b[0mself\u001b[0m\u001b[0;34m,\u001b[0m \u001b[0mpath\u001b[0m\u001b[0;34m,\u001b[0m \u001b[0mapi\u001b[0m\u001b[0;34m=\u001b[0m\u001b[0;34m'public'\u001b[0m\u001b[0;34m,\u001b[0m \u001b[0mmethod\u001b[0m\u001b[0;34m=\u001b[0m\u001b[0;34m'GET'\u001b[0m\u001b[0;34m,\u001b[0m \u001b[0mparams\u001b[0m\u001b[0;34m=\u001b[0m\u001b[0;34m{\u001b[0m\u001b[0;34m}\u001b[0m\u001b[0;34m,\u001b[0m \u001b[0mheaders\u001b[0m\u001b[0;34m=\u001b[0m\u001b[0;32mNone\u001b[0m\u001b[0;34m,\u001b[0m \u001b[0mbody\u001b[0m\u001b[0;34m=\u001b[0m\u001b[0;32mNone\u001b[0m\u001b[0;34m,\u001b[0m \u001b[0mconfig\u001b[0m\u001b[0;34m=\u001b[0m\u001b[0;34m{\u001b[0m\u001b[0;34m}\u001b[0m\u001b[0;34m,\u001b[0m \u001b[0mcontext\u001b[0m\u001b[0;34m=\u001b[0m\u001b[0;34m{\u001b[0m\u001b[0;34m}\u001b[0m\u001b[0;34m)\u001b[0m\u001b[0;34m:\u001b[0m\u001b[0;34m\u001b[0m\u001b[0;34m\u001b[0m\u001b[0m\n\u001b[0;32m-> 4242\u001b[0;31m         \u001b[0mresponse\u001b[0m \u001b[0;34m=\u001b[0m \u001b[0mself\u001b[0m\u001b[0;34m.\u001b[0m\u001b[0mfetch2\u001b[0m\u001b[0;34m(\u001b[0m\u001b[0mpath\u001b[0m\u001b[0;34m,\u001b[0m \u001b[0mapi\u001b[0m\u001b[0;34m,\u001b[0m \u001b[0mmethod\u001b[0m\u001b[0;34m,\u001b[0m \u001b[0mparams\u001b[0m\u001b[0;34m,\u001b[0m \u001b[0mheaders\u001b[0m\u001b[0;34m,\u001b[0m \u001b[0mbody\u001b[0m\u001b[0;34m,\u001b[0m \u001b[0mconfig\u001b[0m\u001b[0;34m,\u001b[0m \u001b[0mcontext\u001b[0m\u001b[0;34m)\u001b[0m\u001b[0;34m\u001b[0m\u001b[0;34m\u001b[0m\u001b[0m\n\u001b[0m\u001b[1;32m   4243\u001b[0m         \u001b[0;31m# a workaround for {\"code\":-2015,\"msg\":\"Invalid API-key, IP, or permissions for action.\"}\u001b[0m\u001b[0;34m\u001b[0m\u001b[0;34m\u001b[0m\u001b[0;34m\u001b[0m\u001b[0m\n\u001b[1;32m   4244\u001b[0m         \u001b[0;32mif\u001b[0m \u001b[0;34m(\u001b[0m\u001b[0mapi\u001b[0m \u001b[0;34m==\u001b[0m \u001b[0;34m'private'\u001b[0m\u001b[0;34m)\u001b[0m \u001b[0;32mor\u001b[0m \u001b[0;34m(\u001b[0m\u001b[0mapi\u001b[0m \u001b[0;34m==\u001b[0m \u001b[0;34m'wapi'\u001b[0m\u001b[0;34m)\u001b[0m\u001b[0;34m:\u001b[0m\u001b[0;34m\u001b[0m\u001b[0;34m\u001b[0m\u001b[0m\n",
      "\u001b[0;32m/opt/anaconda3/lib/python3.8/site-packages/ccxt/base/exchange.py\u001b[0m in \u001b[0;36mfetch2\u001b[0;34m(self, path, api, method, params, headers, body, config, context)\u001b[0m\n\u001b[1;32m    500\u001b[0m         \u001b[0mself\u001b[0m\u001b[0;34m.\u001b[0m\u001b[0mlastRestRequestTimestamp\u001b[0m \u001b[0;34m=\u001b[0m \u001b[0mself\u001b[0m\u001b[0;34m.\u001b[0m\u001b[0mmilliseconds\u001b[0m\u001b[0;34m(\u001b[0m\u001b[0;34m)\u001b[0m\u001b[0;34m\u001b[0m\u001b[0;34m\u001b[0m\u001b[0m\n\u001b[1;32m    501\u001b[0m         \u001b[0mrequest\u001b[0m \u001b[0;34m=\u001b[0m \u001b[0mself\u001b[0m\u001b[0;34m.\u001b[0m\u001b[0msign\u001b[0m\u001b[0;34m(\u001b[0m\u001b[0mpath\u001b[0m\u001b[0;34m,\u001b[0m \u001b[0mapi\u001b[0m\u001b[0;34m,\u001b[0m \u001b[0mmethod\u001b[0m\u001b[0;34m,\u001b[0m \u001b[0mparams\u001b[0m\u001b[0;34m,\u001b[0m \u001b[0mheaders\u001b[0m\u001b[0;34m,\u001b[0m \u001b[0mbody\u001b[0m\u001b[0;34m)\u001b[0m\u001b[0;34m\u001b[0m\u001b[0;34m\u001b[0m\u001b[0m\n\u001b[0;32m--> 502\u001b[0;31m         \u001b[0;32mreturn\u001b[0m \u001b[0mself\u001b[0m\u001b[0;34m.\u001b[0m\u001b[0mfetch\u001b[0m\u001b[0;34m(\u001b[0m\u001b[0mrequest\u001b[0m\u001b[0;34m[\u001b[0m\u001b[0;34m'url'\u001b[0m\u001b[0;34m]\u001b[0m\u001b[0;34m,\u001b[0m \u001b[0mrequest\u001b[0m\u001b[0;34m[\u001b[0m\u001b[0;34m'method'\u001b[0m\u001b[0;34m]\u001b[0m\u001b[0;34m,\u001b[0m \u001b[0mrequest\u001b[0m\u001b[0;34m[\u001b[0m\u001b[0;34m'headers'\u001b[0m\u001b[0;34m]\u001b[0m\u001b[0;34m,\u001b[0m \u001b[0mrequest\u001b[0m\u001b[0;34m[\u001b[0m\u001b[0;34m'body'\u001b[0m\u001b[0;34m]\u001b[0m\u001b[0;34m)\u001b[0m\u001b[0;34m\u001b[0m\u001b[0;34m\u001b[0m\u001b[0m\n\u001b[0m\u001b[1;32m    503\u001b[0m \u001b[0;34m\u001b[0m\u001b[0m\n\u001b[1;32m    504\u001b[0m     \u001b[0;32mdef\u001b[0m \u001b[0mrequest\u001b[0m\u001b[0;34m(\u001b[0m\u001b[0mself\u001b[0m\u001b[0;34m,\u001b[0m \u001b[0mpath\u001b[0m\u001b[0;34m,\u001b[0m \u001b[0mapi\u001b[0m\u001b[0;34m=\u001b[0m\u001b[0;34m'public'\u001b[0m\u001b[0;34m,\u001b[0m \u001b[0mmethod\u001b[0m\u001b[0;34m=\u001b[0m\u001b[0;34m'GET'\u001b[0m\u001b[0;34m,\u001b[0m \u001b[0mparams\u001b[0m\u001b[0;34m=\u001b[0m\u001b[0;34m{\u001b[0m\u001b[0;34m}\u001b[0m\u001b[0;34m,\u001b[0m \u001b[0mheaders\u001b[0m\u001b[0;34m=\u001b[0m\u001b[0;32mNone\u001b[0m\u001b[0;34m,\u001b[0m \u001b[0mbody\u001b[0m\u001b[0;34m=\u001b[0m\u001b[0;32mNone\u001b[0m\u001b[0;34m,\u001b[0m \u001b[0mconfig\u001b[0m\u001b[0;34m=\u001b[0m\u001b[0;34m{\u001b[0m\u001b[0;34m}\u001b[0m\u001b[0;34m,\u001b[0m \u001b[0mcontext\u001b[0m\u001b[0;34m=\u001b[0m\u001b[0;34m{\u001b[0m\u001b[0;34m}\u001b[0m\u001b[0;34m)\u001b[0m\u001b[0;34m:\u001b[0m\u001b[0;34m\u001b[0m\u001b[0;34m\u001b[0m\u001b[0m\n",
      "\u001b[0;32m/opt/anaconda3/lib/python3.8/site-packages/ccxt/base/exchange.py\u001b[0m in \u001b[0;36mfetch\u001b[0;34m(self, url, method, headers, body)\u001b[0m\n\u001b[1;32m    627\u001b[0m         \u001b[0;32mexcept\u001b[0m \u001b[0mHTTPError\u001b[0m \u001b[0;32mas\u001b[0m \u001b[0me\u001b[0m\u001b[0;34m:\u001b[0m\u001b[0;34m\u001b[0m\u001b[0;34m\u001b[0m\u001b[0m\n\u001b[1;32m    628\u001b[0m             \u001b[0mdetails\u001b[0m \u001b[0;34m=\u001b[0m \u001b[0;34m' '\u001b[0m\u001b[0;34m.\u001b[0m\u001b[0mjoin\u001b[0m\u001b[0;34m(\u001b[0m\u001b[0;34m[\u001b[0m\u001b[0mself\u001b[0m\u001b[0;34m.\u001b[0m\u001b[0mid\u001b[0m\u001b[0;34m,\u001b[0m \u001b[0mmethod\u001b[0m\u001b[0;34m,\u001b[0m \u001b[0murl\u001b[0m\u001b[0;34m]\u001b[0m\u001b[0;34m)\u001b[0m\u001b[0;34m\u001b[0m\u001b[0;34m\u001b[0m\u001b[0m\n\u001b[0;32m--> 629\u001b[0;31m             \u001b[0mself\u001b[0m\u001b[0;34m.\u001b[0m\u001b[0mhandle_errors\u001b[0m\u001b[0;34m(\u001b[0m\u001b[0mhttp_status_code\u001b[0m\u001b[0;34m,\u001b[0m \u001b[0mhttp_status_text\u001b[0m\u001b[0;34m,\u001b[0m \u001b[0murl\u001b[0m\u001b[0;34m,\u001b[0m \u001b[0mmethod\u001b[0m\u001b[0;34m,\u001b[0m \u001b[0mheaders\u001b[0m\u001b[0;34m,\u001b[0m \u001b[0mhttp_response\u001b[0m\u001b[0;34m,\u001b[0m \u001b[0mjson_response\u001b[0m\u001b[0;34m,\u001b[0m \u001b[0mrequest_headers\u001b[0m\u001b[0;34m,\u001b[0m \u001b[0mrequest_body\u001b[0m\u001b[0;34m)\u001b[0m\u001b[0;34m\u001b[0m\u001b[0;34m\u001b[0m\u001b[0m\n\u001b[0m\u001b[1;32m    630\u001b[0m             \u001b[0mself\u001b[0m\u001b[0;34m.\u001b[0m\u001b[0mhandle_http_status_code\u001b[0m\u001b[0;34m(\u001b[0m\u001b[0mhttp_status_code\u001b[0m\u001b[0;34m,\u001b[0m \u001b[0mhttp_status_text\u001b[0m\u001b[0;34m,\u001b[0m \u001b[0murl\u001b[0m\u001b[0;34m,\u001b[0m \u001b[0mmethod\u001b[0m\u001b[0;34m,\u001b[0m \u001b[0mhttp_response\u001b[0m\u001b[0;34m)\u001b[0m\u001b[0;34m\u001b[0m\u001b[0;34m\u001b[0m\u001b[0m\n\u001b[1;32m    631\u001b[0m             \u001b[0;32mraise\u001b[0m \u001b[0mExchangeError\u001b[0m\u001b[0;34m(\u001b[0m\u001b[0mdetails\u001b[0m\u001b[0;34m)\u001b[0m \u001b[0;32mfrom\u001b[0m \u001b[0me\u001b[0m\u001b[0;34m\u001b[0m\u001b[0;34m\u001b[0m\u001b[0m\n",
      "\u001b[0;32m/opt/anaconda3/lib/python3.8/site-packages/ccxt/binance.py\u001b[0m in \u001b[0;36mhandle_errors\u001b[0;34m(self, code, reason, url, method, headers, body, response, requestHeaders, requestBody)\u001b[0m\n\u001b[1;32m   4220\u001b[0m                 \u001b[0;32mraise\u001b[0m \u001b[0mDDoSProtection\u001b[0m\u001b[0;34m(\u001b[0m\u001b[0mself\u001b[0m\u001b[0;34m.\u001b[0m\u001b[0mid\u001b[0m \u001b[0;34m+\u001b[0m \u001b[0;34m' temporary banned: '\u001b[0m \u001b[0;34m+\u001b[0m \u001b[0mbody\u001b[0m\u001b[0;34m)\u001b[0m\u001b[0;34m\u001b[0m\u001b[0;34m\u001b[0m\u001b[0m\n\u001b[1;32m   4221\u001b[0m             \u001b[0mfeedback\u001b[0m \u001b[0;34m=\u001b[0m \u001b[0mself\u001b[0m\u001b[0;34m.\u001b[0m\u001b[0mid\u001b[0m \u001b[0;34m+\u001b[0m \u001b[0;34m' '\u001b[0m \u001b[0;34m+\u001b[0m \u001b[0mbody\u001b[0m\u001b[0;34m\u001b[0m\u001b[0;34m\u001b[0m\u001b[0m\n\u001b[0;32m-> 4222\u001b[0;31m             \u001b[0mself\u001b[0m\u001b[0;34m.\u001b[0m\u001b[0mthrow_exactly_matched_exception\u001b[0m\u001b[0;34m(\u001b[0m\u001b[0mself\u001b[0m\u001b[0;34m.\u001b[0m\u001b[0mexceptions\u001b[0m\u001b[0;34m[\u001b[0m\u001b[0;34m'exact'\u001b[0m\u001b[0;34m]\u001b[0m\u001b[0;34m,\u001b[0m \u001b[0merror\u001b[0m\u001b[0;34m,\u001b[0m \u001b[0mfeedback\u001b[0m\u001b[0;34m)\u001b[0m\u001b[0;34m\u001b[0m\u001b[0;34m\u001b[0m\u001b[0m\n\u001b[0m\u001b[1;32m   4223\u001b[0m             \u001b[0;32mraise\u001b[0m \u001b[0mExchangeError\u001b[0m\u001b[0;34m(\u001b[0m\u001b[0mfeedback\u001b[0m\u001b[0;34m)\u001b[0m\u001b[0;34m\u001b[0m\u001b[0;34m\u001b[0m\u001b[0m\n\u001b[1;32m   4224\u001b[0m         \u001b[0;32mif\u001b[0m \u001b[0;32mnot\u001b[0m \u001b[0msuccess\u001b[0m\u001b[0;34m:\u001b[0m\u001b[0;34m\u001b[0m\u001b[0;34m\u001b[0m\u001b[0m\n",
      "\u001b[0;32m/opt/anaconda3/lib/python3.8/site-packages/ccxt/base/exchange.py\u001b[0m in \u001b[0;36mthrow_exactly_matched_exception\u001b[0;34m(self, exact, string, message)\u001b[0m\n\u001b[1;32m    518\u001b[0m     \u001b[0;32mdef\u001b[0m \u001b[0mthrow_exactly_matched_exception\u001b[0m\u001b[0;34m(\u001b[0m\u001b[0mself\u001b[0m\u001b[0;34m,\u001b[0m \u001b[0mexact\u001b[0m\u001b[0;34m,\u001b[0m \u001b[0mstring\u001b[0m\u001b[0;34m,\u001b[0m \u001b[0mmessage\u001b[0m\u001b[0;34m)\u001b[0m\u001b[0;34m:\u001b[0m\u001b[0;34m\u001b[0m\u001b[0;34m\u001b[0m\u001b[0m\n\u001b[1;32m    519\u001b[0m         \u001b[0;32mif\u001b[0m \u001b[0mstring\u001b[0m \u001b[0;32min\u001b[0m \u001b[0mexact\u001b[0m\u001b[0;34m:\u001b[0m\u001b[0;34m\u001b[0m\u001b[0;34m\u001b[0m\u001b[0m\n\u001b[0;32m--> 520\u001b[0;31m             \u001b[0;32mraise\u001b[0m \u001b[0mexact\u001b[0m\u001b[0;34m[\u001b[0m\u001b[0mstring\u001b[0m\u001b[0;34m]\u001b[0m\u001b[0;34m(\u001b[0m\u001b[0mmessage\u001b[0m\u001b[0;34m)\u001b[0m\u001b[0;34m\u001b[0m\u001b[0;34m\u001b[0m\u001b[0m\n\u001b[0m\u001b[1;32m    521\u001b[0m \u001b[0;34m\u001b[0m\u001b[0m\n\u001b[1;32m    522\u001b[0m     \u001b[0;32mdef\u001b[0m \u001b[0mthrow_broadly_matched_exception\u001b[0m\u001b[0;34m(\u001b[0m\u001b[0mself\u001b[0m\u001b[0;34m,\u001b[0m \u001b[0mbroad\u001b[0m\u001b[0;34m,\u001b[0m \u001b[0mstring\u001b[0m\u001b[0;34m,\u001b[0m \u001b[0mmessage\u001b[0m\u001b[0;34m)\u001b[0m\u001b[0;34m:\u001b[0m\u001b[0;34m\u001b[0m\u001b[0;34m\u001b[0m\u001b[0m\n",
      "\u001b[0;31mInsufficientFunds\u001b[0m: binance {\"code\":-2019,\"msg\":\"Margin is insufficient.\"}"
     ]
    }
   ],
   "source": [
    "# if user_binance.has['fetchMyTrades']:\n",
    "#     d = user_binance.fetchMyTrades(symbol=\"ETH/USDT\", since=1634221523135)\n",
    "#     print(d)  \n",
    "\n",
    "    \n",
    "binance = ccxt.binance(config={\n",
    "    'apiKey': 'Dt81SVf8CiRnZI6HurMfPE2L128PpufdG9aSaONfbh4qjICmtdJJfk0mFjFEine1', \n",
    "    'secret': '3fSbN60xhXWzL0mrzw4Jy1NSzdGLUnPtx9XukNcgUV7XQrZE6WNZmIBCouQpkfL7',\n",
    "    'enableRateLimit': True,\n",
    "    'options': {\n",
    "        'defaultType': 'future'\n",
    "    }\n",
    "})\n",
    "\n",
    "order = binance.create_market_buy_order(\n",
    "    symbol=\"BTC/USDT\",\n",
    "    amount=0.001\n",
    ")\n",
    "\n",
    "pprint.pprint(order)"
   ]
  },
  {
   "cell_type": "code",
   "execution_count": 57,
   "metadata": {
    "ExecuteTime": {
     "end_time": "2021-10-14T14:25:06.504562Z",
     "start_time": "2021-10-14T14:25:06.501502Z"
    }
   },
   "outputs": [],
   "source": [
    "import time\n",
    "\n",
    "def current_milli_time():\n",
    "    return round(time.time() * 1000)\n",
    "\n",
    "def current_milli_time_before():\n",
    "    return round((time.time() - (86400 * 3)) * 1000)\n"
   ]
  },
  {
   "cell_type": "code",
   "execution_count": 121,
   "metadata": {
    "ExecuteTime": {
     "end_time": "2021-10-15T05:29:33.332282Z",
     "start_time": "2021-10-15T05:29:33.327578Z"
    }
   },
   "outputs": [
    {
     "data": {
      "text/plain": [
       "'2021-05-28 21:59:12'"
      ]
     },
     "execution_count": 121,
     "metadata": {},
     "output_type": "execute_result"
    }
   ],
   "source": [
    "from datetime import datetime, timedelta\n",
    "\n",
    "datetime.fromtimestamp(1622206752922 / 1000).strftime('%Y-%m-%d %H:%M:%S')\n"
   ]
  },
  {
   "cell_type": "code",
   "execution_count": 113,
   "metadata": {
    "ExecuteTime": {
     "end_time": "2021-10-14T15:49:52.653322Z",
     "start_time": "2021-10-14T15:49:52.562271Z"
    }
   },
   "outputs": [
    {
     "data": {
      "text/plain": [
       "<Response [500]>"
      ]
     },
     "execution_count": 113,
     "metadata": {},
     "output_type": "execute_result"
    }
   ],
   "source": [
    "import requests\n",
    "order = {\"d\": \"1\", \"d\": {\"d\": 1, \"f\": 2}}\n",
    "\n",
    "requests.post(\"http://localhost:8000/trading/record/new\", json=order)"
   ]
  },
  {
   "cell_type": "code",
   "execution_count": 114,
   "metadata": {
    "ExecuteTime": {
     "end_time": "2021-10-14T15:59:52.022527Z",
     "start_time": "2021-10-14T15:59:52.019885Z"
    }
   },
   "outputs": [],
   "source": [
    "year_month_day = datetime.now().strftime(\"%Y-%m-%d\")"
   ]
  },
  {
   "cell_type": "code",
   "execution_count": 122,
   "metadata": {
    "ExecuteTime": {
     "end_time": "2021-10-15T05:29:35.453859Z",
     "start_time": "2021-10-15T05:29:35.451340Z"
    }
   },
   "outputs": [],
   "source": [
    "d = datetime.now() - (datetime.now() - timedelta(3))"
   ]
  },
  {
   "cell_type": "code",
   "execution_count": 127,
   "metadata": {
    "ExecuteTime": {
     "end_time": "2021-10-15T05:29:59.854157Z",
     "start_time": "2021-10-15T05:29:59.850656Z"
    }
   },
   "outputs": [
    {
     "data": {
      "text/plain": [
       "int"
      ]
     },
     "execution_count": 127,
     "metadata": {},
     "output_type": "execute_result"
    }
   ],
   "source": [
    "type(d.seconds)"
   ]
  },
  {
   "cell_type": "code",
   "execution_count": null,
   "metadata": {},
   "outputs": [],
   "source": []
  },
  {
   "cell_type": "code",
   "execution_count": null,
   "metadata": {},
   "outputs": [],
   "source": []
  },
  {
   "cell_type": "code",
   "execution_count": null,
   "metadata": {},
   "outputs": [],
   "source": []
  },
  {
   "cell_type": "code",
   "execution_count": null,
   "metadata": {},
   "outputs": [],
   "source": []
  },
  {
   "cell_type": "code",
   "execution_count": null,
   "metadata": {},
   "outputs": [],
   "source": []
  },
  {
   "cell_type": "code",
   "execution_count": null,
   "metadata": {},
   "outputs": [],
   "source": []
  },
  {
   "cell_type": "code",
   "execution_count": null,
   "metadata": {},
   "outputs": [],
   "source": []
  },
  {
   "cell_type": "code",
   "execution_count": null,
   "metadata": {},
   "outputs": [],
   "source": []
  },
  {
   "cell_type": "code",
   "execution_count": null,
   "metadata": {},
   "outputs": [],
   "source": []
  },
  {
   "cell_type": "code",
   "execution_count": null,
   "metadata": {},
   "outputs": [],
   "source": []
  },
  {
   "cell_type": "code",
   "execution_count": null,
   "metadata": {},
   "outputs": [],
   "source": []
  }
 ],
 "metadata": {
  "hide_input": false,
  "kernelspec": {
   "display_name": "Python 3",
   "language": "python",
   "name": "python3"
  },
  "language_info": {
   "codemirror_mode": {
    "name": "ipython",
    "version": 3
   },
   "file_extension": ".py",
   "mimetype": "text/x-python",
   "name": "python",
   "nbconvert_exporter": "python",
   "pygments_lexer": "ipython3",
   "version": "3.8.5"
  },
  "toc": {
   "base_numbering": 1,
   "nav_menu": {},
   "number_sections": true,
   "sideBar": true,
   "skip_h1_title": false,
   "title_cell": "Table of Contents",
   "title_sidebar": "Contents",
   "toc_cell": false,
   "toc_position": {},
   "toc_section_display": true,
   "toc_window_display": false
  },
  "varInspector": {
   "cols": {
    "lenName": 16,
    "lenType": 16,
    "lenVar": 40
   },
   "kernels_config": {
    "python": {
     "delete_cmd_postfix": "",
     "delete_cmd_prefix": "del ",
     "library": "var_list.py",
     "varRefreshCmd": "print(var_dic_list())"
    },
    "r": {
     "delete_cmd_postfix": ") ",
     "delete_cmd_prefix": "rm(",
     "library": "var_list.r",
     "varRefreshCmd": "cat(var_dic_list()) "
    }
   },
   "types_to_exclude": [
    "module",
    "function",
    "builtin_function_or_method",
    "instance",
    "_Feature"
   ],
   "window_display": false
  }
 },
 "nbformat": 4,
 "nbformat_minor": 4
}
